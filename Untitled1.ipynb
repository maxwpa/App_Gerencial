{
 "cells": [
  {
   "cell_type": "code",
   "execution_count": 51,
   "id": "2998cc29",
   "metadata": {},
   "outputs": [],
   "source": [
    "import sqlite3\n",
    "import firebase_admin\n",
    "from firebase_admin import credentials, db, initialize_app, get_app\n",
    "\n",
    "try:\n",
    "    with sqlite3.connect('data_test.db') as conn:\n",
    "        cursor = conn.cursor()\n",
    "\n",
    "        cursor.executescript('''\n",
    "            create table if not exists compras (\n",
    "                produto tinytext not null,\n",
    "                marca tinytext not null,\n",
    "                quantidade tinyint not null,\n",
    "                preco float(7,2)\n",
    "            );\n",
    "        ''')\n",
    "\n",
    "        produto = 'smartphone'\n",
    "        marca = 'iphone'\n",
    "        quantidade = 5\n",
    "        preco = 14500.00\n",
    "        data = produto, marca, quantidade, preco\n",
    "\n",
    "        cursor.execute('insert into compras values (?, ?, ?, ?)', data)\n",
    "\n",
    "        conn.commit()\n",
    "\n",
    "        cursor.execute('SELECT * FROM compras')\n",
    "        rows = cursor.fetchall()\n",
    "\n",
    "        cred = credentials.Certificate(\"compras-83f8a-firebase-adminsdk-8z6dt-4329519339.json\")\n",
    "        app = initialize_app(cred, options={'databaseURL': 'https://compras-83f8a-default-rtdb.firebaseio.com/'})\n",
    "\n",
    "        db_ref = db.reference('/compras', app=app)\n",
    "        for row in rows:\n",
    "            data = {\n",
    "                'produto': row[0],\n",
    "                'marca': row[1],\n",
    "                'quantidade': row[2],\n",
    "                'preco': row[3]\n",
    "            }\n",
    "            db_ref.push(data)\n",
    "\n",
    "except Exception as e:\n",
    "    print(f\"Ocorreu um erro: {e}\")\n",
    "finally:\n",
    "    firebase_admin.delete_app(app)"
   ]
  },
  {
   "cell_type": "code",
   "execution_count": null,
   "id": "431d0785",
   "metadata": {},
   "outputs": [],
   "source": [
    "conn close()"
   ]
  },
  {
   "cell_type": "code",
   "execution_count": 8,
   "id": "6f158ce4",
   "metadata": {
    "scrolled": true
   },
   "outputs": [
    {
     "ename": "NotFoundError",
     "evalue": "404 Not Found",
     "output_type": "error",
     "traceback": [
      "\u001b[1;31m---------------------------------------------------------------------------\u001b[0m",
      "\u001b[1;31mHTTPError\u001b[0m                                 Traceback (most recent call last)",
      "File \u001b[1;32mC:\\PerfLogs\\Lib\\site-packages\\firebase_admin\\db.py:929\u001b[0m, in \u001b[0;36m_Client.request\u001b[1;34m(self, method, url, **kwargs)\u001b[0m\n\u001b[0;32m    928\u001b[0m \u001b[38;5;28;01mtry\u001b[39;00m:\n\u001b[1;32m--> 929\u001b[0m     \u001b[38;5;28;01mreturn\u001b[39;00m \u001b[38;5;28msuper\u001b[39m(_Client, \u001b[38;5;28mself\u001b[39m)\u001b[38;5;241m.\u001b[39mrequest(method, url, \u001b[38;5;241m*\u001b[39m\u001b[38;5;241m*\u001b[39mkwargs)\n\u001b[0;32m    930\u001b[0m \u001b[38;5;28;01mexcept\u001b[39;00m requests\u001b[38;5;241m.\u001b[39mexceptions\u001b[38;5;241m.\u001b[39mRequestException \u001b[38;5;28;01mas\u001b[39;00m error:\n",
      "File \u001b[1;32mC:\\PerfLogs\\Lib\\site-packages\\firebase_admin\\_http_client.py:119\u001b[0m, in \u001b[0;36mHttpClient.request\u001b[1;34m(self, method, url, **kwargs)\u001b[0m\n\u001b[0;32m    118\u001b[0m resp \u001b[38;5;241m=\u001b[39m \u001b[38;5;28mself\u001b[39m\u001b[38;5;241m.\u001b[39m_session\u001b[38;5;241m.\u001b[39mrequest(method, \u001b[38;5;28mself\u001b[39m\u001b[38;5;241m.\u001b[39mbase_url \u001b[38;5;241m+\u001b[39m url, \u001b[38;5;241m*\u001b[39m\u001b[38;5;241m*\u001b[39mkwargs)\n\u001b[1;32m--> 119\u001b[0m resp\u001b[38;5;241m.\u001b[39mraise_for_status()\n\u001b[0;32m    120\u001b[0m \u001b[38;5;28;01mreturn\u001b[39;00m resp\n",
      "File \u001b[1;32m~\\AppData\\Roaming\\Python\\Python311\\site-packages\\requests\\models.py:1021\u001b[0m, in \u001b[0;36mResponse.raise_for_status\u001b[1;34m(self)\u001b[0m\n\u001b[0;32m   1020\u001b[0m \u001b[38;5;28;01mif\u001b[39;00m http_error_msg:\n\u001b[1;32m-> 1021\u001b[0m     \u001b[38;5;28;01mraise\u001b[39;00m HTTPError(http_error_msg, response\u001b[38;5;241m=\u001b[39m\u001b[38;5;28mself\u001b[39m)\n",
      "\u001b[1;31mHTTPError\u001b[0m: 404 Client Error: Not Found for url: https://your-firebase-database-url.firebaseio.com/compras.json",
      "\nDuring handling of the above exception, another exception occurred:\n",
      "\u001b[1;31mNotFoundError\u001b[0m                             Traceback (most recent call last)",
      "Cell \u001b[1;32mIn[8], line 20\u001b[0m\n\u001b[0;32m     12\u001b[0m data \u001b[38;5;241m=\u001b[39m {\n\u001b[0;32m     13\u001b[0m     \u001b[38;5;124m'\u001b[39m\u001b[38;5;124mproduto\u001b[39m\u001b[38;5;124m'\u001b[39m: produto,\n\u001b[0;32m     14\u001b[0m     \u001b[38;5;124m'\u001b[39m\u001b[38;5;124mmarca\u001b[39m\u001b[38;5;124m'\u001b[39m: marca,\n\u001b[0;32m     15\u001b[0m     \u001b[38;5;124m'\u001b[39m\u001b[38;5;124mquantidade\u001b[39m\u001b[38;5;124m'\u001b[39m: quantidade,\n\u001b[0;32m     16\u001b[0m     \u001b[38;5;124m'\u001b[39m\u001b[38;5;124mpreco\u001b[39m\u001b[38;5;124m'\u001b[39m: preco\n\u001b[0;32m     17\u001b[0m }\n\u001b[0;32m     19\u001b[0m db_ref \u001b[38;5;241m=\u001b[39m db\u001b[38;5;241m.\u001b[39mreference(\u001b[38;5;124m'\u001b[39m\u001b[38;5;124m/compras\u001b[39m\u001b[38;5;124m'\u001b[39m, app\u001b[38;5;241m=\u001b[39mapp)\n\u001b[1;32m---> 20\u001b[0m db_ref\u001b[38;5;241m.\u001b[39mpush(data)\n\u001b[0;32m     22\u001b[0m firebase_admin\u001b[38;5;241m.\u001b[39mdelete_app(app)\n",
      "File \u001b[1;32mC:\\PerfLogs\\Lib\\site-packages\\firebase_admin\\db.py:323\u001b[0m, in \u001b[0;36mReference.push\u001b[1;34m(self, value)\u001b[0m\n\u001b[0;32m    321\u001b[0m \u001b[38;5;28;01mif\u001b[39;00m value \u001b[38;5;129;01mis\u001b[39;00m \u001b[38;5;28;01mNone\u001b[39;00m:\n\u001b[0;32m    322\u001b[0m     \u001b[38;5;28;01mraise\u001b[39;00m \u001b[38;5;167;01mValueError\u001b[39;00m(\u001b[38;5;124m'\u001b[39m\u001b[38;5;124mValue must not be None.\u001b[39m\u001b[38;5;124m'\u001b[39m)\n\u001b[1;32m--> 323\u001b[0m output \u001b[38;5;241m=\u001b[39m \u001b[38;5;28mself\u001b[39m\u001b[38;5;241m.\u001b[39m_client\u001b[38;5;241m.\u001b[39mbody(\u001b[38;5;124m'\u001b[39m\u001b[38;5;124mpost\u001b[39m\u001b[38;5;124m'\u001b[39m, \u001b[38;5;28mself\u001b[39m\u001b[38;5;241m.\u001b[39m_add_suffix(), json\u001b[38;5;241m=\u001b[39mvalue)\n\u001b[0;32m    324\u001b[0m push_id \u001b[38;5;241m=\u001b[39m output\u001b[38;5;241m.\u001b[39mget(\u001b[38;5;124m'\u001b[39m\u001b[38;5;124mname\u001b[39m\u001b[38;5;124m'\u001b[39m)\n\u001b[0;32m    325\u001b[0m \u001b[38;5;28;01mreturn\u001b[39;00m \u001b[38;5;28mself\u001b[39m\u001b[38;5;241m.\u001b[39mchild(push_id)\n",
      "File \u001b[1;32mC:\\PerfLogs\\Lib\\site-packages\\firebase_admin\\_http_client.py:131\u001b[0m, in \u001b[0;36mHttpClient.body\u001b[1;34m(self, method, url, **kwargs)\u001b[0m\n\u001b[0;32m    130\u001b[0m \u001b[38;5;28;01mdef\u001b[39;00m \u001b[38;5;21mbody\u001b[39m(\u001b[38;5;28mself\u001b[39m, method, url, \u001b[38;5;241m*\u001b[39m\u001b[38;5;241m*\u001b[39mkwargs):\n\u001b[1;32m--> 131\u001b[0m     resp \u001b[38;5;241m=\u001b[39m \u001b[38;5;28mself\u001b[39m\u001b[38;5;241m.\u001b[39mrequest(method, url, \u001b[38;5;241m*\u001b[39m\u001b[38;5;241m*\u001b[39mkwargs)\n\u001b[0;32m    132\u001b[0m     \u001b[38;5;28;01mreturn\u001b[39;00m \u001b[38;5;28mself\u001b[39m\u001b[38;5;241m.\u001b[39mparse_body(resp)\n",
      "File \u001b[1;32mC:\\PerfLogs\\Lib\\site-packages\\firebase_admin\\db.py:931\u001b[0m, in \u001b[0;36m_Client.request\u001b[1;34m(self, method, url, **kwargs)\u001b[0m\n\u001b[0;32m    929\u001b[0m     \u001b[38;5;28;01mreturn\u001b[39;00m \u001b[38;5;28msuper\u001b[39m(_Client, \u001b[38;5;28mself\u001b[39m)\u001b[38;5;241m.\u001b[39mrequest(method, url, \u001b[38;5;241m*\u001b[39m\u001b[38;5;241m*\u001b[39mkwargs)\n\u001b[0;32m    930\u001b[0m \u001b[38;5;28;01mexcept\u001b[39;00m requests\u001b[38;5;241m.\u001b[39mexceptions\u001b[38;5;241m.\u001b[39mRequestException \u001b[38;5;28;01mas\u001b[39;00m error:\n\u001b[1;32m--> 931\u001b[0m     \u001b[38;5;28;01mraise\u001b[39;00m _Client\u001b[38;5;241m.\u001b[39mhandle_rtdb_error(error)\n",
      "\u001b[1;31mNotFoundError\u001b[0m: 404 Not Found"
     ]
    }
   ],
   "source": [
    "import firebase_admin\n",
    "from firebase_admin import credentials, db, initialize_app, get_app\n",
    "\n",
    "cred = credentials.Certificate(\"compras-83f8a-firebase-adminsdk-8z6dt-4329519339.json\")\n",
    "app = initialize_app(cred, options={'databaseURL': 'https://compras-83f8a-default-rtdb.firebaseio.com/'})\n",
    "\n",
    "produto = 'ventilador'\n",
    "marca = 'arno'\n",
    "quantidade = 30\n",
    "preco = 54.00\n",
    "\n",
    "data = {\n",
    "    'produto': produto,\n",
    "    'marca': marca,\n",
    "    'quantidade': quantidade,\n",
    "    'preco': preco\n",
    "}\n",
    "\n",
    "db_ref = db.reference('/compras', app=app)\n",
    "db_ref.push(data)\n",
    "\n",
    "firebase_admin.delete_app(app)"
   ]
  },
  {
   "cell_type": "code",
   "execution_count": 9,
   "id": "a9739555",
   "metadata": {},
   "outputs": [],
   "source": [
    "firebase_admin.delete_app(app)"
   ]
  },
  {
   "cell_type": "code",
   "execution_count": 10,
   "id": "1fcf7295",
   "metadata": {},
   "outputs": [
    {
     "data": {
      "text/plain": [
       "<firebase_admin.db.Reference at 0x24ee44b7c50>"
      ]
     },
     "execution_count": 10,
     "metadata": {},
     "output_type": "execute_result"
    }
   ],
   "source": [
    "app = initialize_app(cred, options={'databaseURL': 'https://compras-83f8a-default-rtdb.firebaseio.com/'})\n",
    "\n",
    "produto = 'ventilador'\n",
    "marca = 'arno'\n",
    "quantidade = 30\n",
    "preco = 54.00\n",
    "\n",
    "data = {\n",
    "    'produto': produto,\n",
    "    'marca': marca,\n",
    "    'quantidade': quantidade,\n",
    "    'preco': preco\n",
    "}\n",
    "\n",
    "db_ref = db.reference('/compras', app=app)\n",
    "db_ref.push(data)"
   ]
  },
  {
   "cell_type": "code",
   "execution_count": 22,
   "id": "6889c645",
   "metadata": {},
   "outputs": [
    {
     "name": "stdout",
     "output_type": "stream",
     "text": [
      "Todos os dados no nó /compras:\n",
      "{'-NoUMlMHvBtHF4438mY0': {'marca': 'iphone', 'preco': 14500.0, 'produto': 'smartphone', 'quantidade': 5}, '-NoWWg1PhGAtcqmcdmO7': {'marca': 'lg', 'preco': 3400.0, 'produto': 'smarttv', 'quantidade': 10}, '-NoWaITmptkNF1ESfivO': {'marca': 'arno', 'preco': 54.0, 'produto': 'ventilador', 'quantidade': 30}, 'PGY55284': {'marca': 'iPhone', 'preco': 14500.0, 'produto': 'smartphone', 'quantidade': 5}}\n"
     ]
    }
   ],
   "source": [
    "all_data = db_ref.get()\n",
    "print(\"Todos os dados no nó /compras:\")\n",
    "print(all_data)"
   ]
  },
  {
   "cell_type": "code",
   "execution_count": 14,
   "id": "f06f4a2b",
   "metadata": {
    "scrolled": true
   },
   "outputs": [
    {
     "name": "stdout",
     "output_type": "stream",
     "text": [
      "Consulta ordenada por produto, limitando a 5 resultados:\n",
      "OrderedDict([('-NoUMlMHvBtHF4438mY0', {'marca': 'iphone', 'preco': 14500.0, 'produto': 'smartphone', 'quantidade': 5}), ('-NoWWg1PhGAtcqmcdmO7', {'marca': 'lg', 'preco': 3400.0, 'produto': 'smarttv', 'quantidade': 10}), ('-NoWaITmptkNF1ESfivO', {'marca': 'arno', 'preco': 54.0, 'produto': 'ventilador', 'quantidade': 30})])\n"
     ]
    }
   ],
   "source": [
    "query_result = db_ref.order_by_child('produto').limit_to_first(5).get()\n",
    "print(\"Consulta ordenada por produto, limitando a 5 resultados:\")\n",
    "print(query_result)"
   ]
  },
  {
   "cell_type": "code",
   "execution_count": 18,
   "id": "f56e6658",
   "metadata": {},
   "outputs": [],
   "source": [
    "import pandas as pd"
   ]
  },
  {
   "cell_type": "code",
   "execution_count": 23,
   "id": "a13f61f4",
   "metadata": {},
   "outputs": [
    {
     "data": {
      "text/html": [
       "<div>\n",
       "<style scoped>\n",
       "    .dataframe tbody tr th:only-of-type {\n",
       "        vertical-align: middle;\n",
       "    }\n",
       "\n",
       "    .dataframe tbody tr th {\n",
       "        vertical-align: top;\n",
       "    }\n",
       "\n",
       "    .dataframe thead th {\n",
       "        text-align: right;\n",
       "    }\n",
       "</style>\n",
       "<table border=\"1\" class=\"dataframe\">\n",
       "  <thead>\n",
       "    <tr style=\"text-align: right;\">\n",
       "      <th></th>\n",
       "      <th>marca</th>\n",
       "      <th>preco</th>\n",
       "      <th>produto</th>\n",
       "      <th>quantidade</th>\n",
       "    </tr>\n",
       "  </thead>\n",
       "  <tbody>\n",
       "    <tr>\n",
       "      <th>-NoUMlMHvBtHF4438mY0</th>\n",
       "      <td>iphone</td>\n",
       "      <td>14500.0</td>\n",
       "      <td>smartphone</td>\n",
       "      <td>5</td>\n",
       "    </tr>\n",
       "    <tr>\n",
       "      <th>-NoWWg1PhGAtcqmcdmO7</th>\n",
       "      <td>lg</td>\n",
       "      <td>3400.0</td>\n",
       "      <td>smarttv</td>\n",
       "      <td>10</td>\n",
       "    </tr>\n",
       "    <tr>\n",
       "      <th>-NoWaITmptkNF1ESfivO</th>\n",
       "      <td>arno</td>\n",
       "      <td>54.0</td>\n",
       "      <td>ventilador</td>\n",
       "      <td>30</td>\n",
       "    </tr>\n",
       "    <tr>\n",
       "      <th>PGY55284</th>\n",
       "      <td>iPhone</td>\n",
       "      <td>14500.0</td>\n",
       "      <td>smartphone</td>\n",
       "      <td>5</td>\n",
       "    </tr>\n",
       "  </tbody>\n",
       "</table>\n",
       "</div>"
      ],
      "text/plain": [
       "                       marca    preco     produto  quantidade\n",
       "-NoUMlMHvBtHF4438mY0  iphone  14500.0  smartphone           5\n",
       "-NoWWg1PhGAtcqmcdmO7      lg   3400.0     smarttv          10\n",
       "-NoWaITmptkNF1ESfivO    arno     54.0  ventilador          30\n",
       "PGY55284              iPhone  14500.0  smartphone           5"
      ]
     },
     "metadata": {},
     "output_type": "display_data"
    }
   ],
   "source": [
    "df = pd.DataFrame.from_dict(all_data, orient='index')\n",
    "display(df)"
   ]
  },
  {
   "cell_type": "code",
   "execution_count": 20,
   "id": "f6b317b2",
   "metadata": {},
   "outputs": [],
   "source": [
    "compra_key = 'PGY55284'\n",
    "compra_data = {\n",
    "    'produto': 'smartphone',\n",
    "    'marca': 'iPhone',\n",
    "    'quantidade': 5,\n",
    "    'preco': 14500.00\n",
    "}\n",
    "\n",
    "db_ref.child(compra_key).set(compra_data)"
   ]
  },
  {
   "cell_type": "code",
   "execution_count": 24,
   "id": "9f8bfa37",
   "metadata": {},
   "outputs": [],
   "source": [
    "from datetime import datetime, date"
   ]
  },
  {
   "cell_type": "code",
   "execution_count": 25,
   "id": "e46412ab",
   "metadata": {},
   "outputs": [],
   "source": [
    "hoje = datetime.now().date()"
   ]
  },
  {
   "cell_type": "code",
   "execution_count": 26,
   "id": "7413e692",
   "metadata": {},
   "outputs": [
    {
     "name": "stdout",
     "output_type": "stream",
     "text": [
      "2024-01-19\n"
     ]
    }
   ],
   "source": [
    "print(hoje)"
   ]
  },
  {
   "cell_type": "code",
   "execution_count": null,
   "id": "d741f342",
   "metadata": {},
   "outputs": [],
   "source": []
  },
  {
   "cell_type": "code",
   "execution_count": 32,
   "id": "3ea0d3d2",
   "metadata": {},
   "outputs": [
    {
     "ename": "ValueError",
     "evalue": "The default Firebase app already exists. This means you called initialize_app() more than once without providing an app name as the second argument. In most cases you only need to call initialize_app() once. But if you do want to initialize multiple apps, pass a second argument to initialize_app() to give each app a unique name.",
     "output_type": "error",
     "traceback": [
      "\u001b[1;31m---------------------------------------------------------------------------\u001b[0m",
      "\u001b[1;31mValueError\u001b[0m                                Traceback (most recent call last)",
      "Cell \u001b[1;32mIn[32], line 7\u001b[0m\n\u001b[0;32m      4\u001b[0m \u001b[38;5;28;01mfrom\u001b[39;00m \u001b[38;5;21;01mfirebase_admin\u001b[39;00m \u001b[38;5;28;01mimport\u001b[39;00m credentials, db, initialize_app, get_app\n\u001b[0;32m      6\u001b[0m cred \u001b[38;5;241m=\u001b[39m credentials\u001b[38;5;241m.\u001b[39mCertificate(\u001b[38;5;124m\"\u001b[39m\u001b[38;5;124mcompras-83f8a-firebase-adminsdk-8z6dt-4329519339.json\u001b[39m\u001b[38;5;124m\"\u001b[39m)\n\u001b[1;32m----> 7\u001b[0m app \u001b[38;5;241m=\u001b[39m initialize_app(cred, options\u001b[38;5;241m=\u001b[39m{\u001b[38;5;124m'\u001b[39m\u001b[38;5;124mdatabaseURL\u001b[39m\u001b[38;5;124m'\u001b[39m: \u001b[38;5;124m'\u001b[39m\u001b[38;5;124mhttps://compras-83f8a-default-rtdb.firebaseio.com/\u001b[39m\u001b[38;5;124m'\u001b[39m})\n\u001b[0;32m      9\u001b[0m produto \u001b[38;5;241m=\u001b[39m \u001b[38;5;124m'\u001b[39m\u001b[38;5;124mfiat uno\u001b[39m\u001b[38;5;124m'\u001b[39m\n\u001b[0;32m     10\u001b[0m data_compra \u001b[38;5;241m=\u001b[39m datetime(\u001b[38;5;241m2022\u001b[39m, \u001b[38;5;241m5\u001b[39m, \u001b[38;5;241m10\u001b[39m)\n",
      "File \u001b[1;32mC:\\PerfLogs\\Lib\\site-packages\\firebase_admin\\__init__.py:73\u001b[0m, in \u001b[0;36minitialize_app\u001b[1;34m(credential, options, name)\u001b[0m\n\u001b[0;32m     70\u001b[0m         \u001b[38;5;28;01mreturn\u001b[39;00m app\n\u001b[0;32m     72\u001b[0m \u001b[38;5;28;01mif\u001b[39;00m name \u001b[38;5;241m==\u001b[39m _DEFAULT_APP_NAME:\n\u001b[1;32m---> 73\u001b[0m     \u001b[38;5;28;01mraise\u001b[39;00m \u001b[38;5;167;01mValueError\u001b[39;00m((\n\u001b[0;32m     74\u001b[0m         \u001b[38;5;124m'\u001b[39m\u001b[38;5;124mThe default Firebase app already exists. This means you called \u001b[39m\u001b[38;5;124m'\u001b[39m\n\u001b[0;32m     75\u001b[0m         \u001b[38;5;124m'\u001b[39m\u001b[38;5;124minitialize_app() more than once without providing an app name as \u001b[39m\u001b[38;5;124m'\u001b[39m\n\u001b[0;32m     76\u001b[0m         \u001b[38;5;124m'\u001b[39m\u001b[38;5;124mthe second argument. In most cases you only need to call \u001b[39m\u001b[38;5;124m'\u001b[39m\n\u001b[0;32m     77\u001b[0m         \u001b[38;5;124m'\u001b[39m\u001b[38;5;124minitialize_app() once. But if you do want to initialize multiple \u001b[39m\u001b[38;5;124m'\u001b[39m\n\u001b[0;32m     78\u001b[0m         \u001b[38;5;124m'\u001b[39m\u001b[38;5;124mapps, pass a second argument to initialize_app() to give each app \u001b[39m\u001b[38;5;124m'\u001b[39m\n\u001b[0;32m     79\u001b[0m         \u001b[38;5;124m'\u001b[39m\u001b[38;5;124ma unique name.\u001b[39m\u001b[38;5;124m'\u001b[39m))\n\u001b[0;32m     81\u001b[0m \u001b[38;5;28;01mraise\u001b[39;00m \u001b[38;5;167;01mValueError\u001b[39;00m((\n\u001b[0;32m     82\u001b[0m     \u001b[38;5;124m'\u001b[39m\u001b[38;5;124mFirebase app named \u001b[39m\u001b[38;5;124m\"\u001b[39m\u001b[38;5;132;01m{0}\u001b[39;00m\u001b[38;5;124m\"\u001b[39m\u001b[38;5;124m already exists. This means you called \u001b[39m\u001b[38;5;124m'\u001b[39m\n\u001b[0;32m     83\u001b[0m     \u001b[38;5;124m'\u001b[39m\u001b[38;5;124minitialize_app() more than once with the same app name as the \u001b[39m\u001b[38;5;124m'\u001b[39m\n\u001b[0;32m     84\u001b[0m     \u001b[38;5;124m'\u001b[39m\u001b[38;5;124msecond argument. Make sure you provide a unique name every time \u001b[39m\u001b[38;5;124m'\u001b[39m\n\u001b[0;32m     85\u001b[0m     \u001b[38;5;124m'\u001b[39m\u001b[38;5;124myou call initialize_app().\u001b[39m\u001b[38;5;124m'\u001b[39m)\u001b[38;5;241m.\u001b[39mformat(name))\n",
      "\u001b[1;31mValueError\u001b[0m: The default Firebase app already exists. This means you called initialize_app() more than once without providing an app name as the second argument. In most cases you only need to call initialize_app() once. But if you do want to initialize multiple apps, pass a second argument to initialize_app() to give each app a unique name."
     ]
    }
   ],
   "source": [
    "import streamlit as st\n",
    "from datetime import datetime, date, time\n",
    "import firebase_admin\n",
    "from firebase_admin import credentials, db, initialize_app, get_app\n",
    "\n",
    "cred = credentials.Certificate(\"compras-83f8a-firebase-adminsdk-8z6dt-4329519339.json\")\n",
    "app = initialize_app(cred, options={'databaseURL': 'https://compras-83f8a-default-rtdb.firebaseio.com/'})\n",
    "\n",
    "produto = 'fiat uno'\n",
    "data_compra = datetime(2022, 5, 10)\n",
    "hoje = datetime.now().date()\n",
    "diferenca = hoje - data_compra\n",
    "\n",
    "data = {\n",
    "    'produto': produto,\n",
    "    'diferenca': diferenca   \n",
    "}\n",
    "\n",
    "db_ref = db.reference('/compras', app=app)\n",
    "db_ref.push(data)\n",
    "\n",
    "all_data = db_ref.get()\n",
    "print(\"Todos os dados no nó /compras:\")\n",
    "print(all_data)\n",
    "\n",
    "firebase_admin.delete_app(app)"
   ]
  },
  {
   "cell_type": "code",
   "execution_count": 27,
   "id": "d1abdbed",
   "metadata": {},
   "outputs": [],
   "source": [
    "datae = datetime(2022, 5, 10)"
   ]
  },
  {
   "cell_type": "code",
   "execution_count": 33,
   "id": "3301f1f5",
   "metadata": {},
   "outputs": [],
   "source": [
    "import streamlit as st\n",
    "from datetime import datetime, date, time\n",
    "import firebase_admin\n",
    "from firebase_admin import credentials, db, initialize_app, get_app"
   ]
  },
  {
   "cell_type": "code",
   "execution_count": 37,
   "id": "5ffada67",
   "metadata": {},
   "outputs": [
    {
     "name": "stdout",
     "output_type": "stream",
     "text": [
      "10:15:45.966700\n"
     ]
    }
   ],
   "source": [
    "hora = datetime.now().time()\n",
    "print(hora)"
   ]
  },
  {
   "cell_type": "code",
   "execution_count": 34,
   "id": "48251c88",
   "metadata": {},
   "outputs": [
    {
     "name": "stdout",
     "output_type": "stream",
     "text": [
      "12:30:45\n"
     ]
    }
   ],
   "source": [
    "time = time(12, 30, 45)\n",
    "print(time)"
   ]
  },
  {
   "cell_type": "code",
   "execution_count": 38,
   "id": "6563174b",
   "metadata": {},
   "outputs": [
    {
     "ename": "TypeError",
     "evalue": "unsupported operand type(s) for -: 'datetime.time' and 'datetime.time'",
     "output_type": "error",
     "traceback": [
      "\u001b[1;31m---------------------------------------------------------------------------\u001b[0m",
      "\u001b[1;31mTypeError\u001b[0m                                 Traceback (most recent call last)",
      "Cell \u001b[1;32mIn[38], line 1\u001b[0m\n\u001b[1;32m----> 1\u001b[0m tempo \u001b[38;5;241m=\u001b[39m time \u001b[38;5;241m-\u001b[39m hora\n\u001b[0;32m      2\u001b[0m \u001b[38;5;28mprint\u001b[39m(tempo)\n",
      "\u001b[1;31mTypeError\u001b[0m: unsupported operand type(s) for -: 'datetime.time' and 'datetime.time'"
     ]
    }
   ],
   "source": [
    "tempo = time - hora\n",
    "print(tempo)"
   ]
  },
  {
   "cell_type": "code",
   "execution_count": 39,
   "id": "3f8c2763",
   "metadata": {},
   "outputs": [
    {
     "ename": "TypeError",
     "evalue": "'datetime.time' object is not callable",
     "output_type": "error",
     "traceback": [
      "\u001b[1;31m---------------------------------------------------------------------------\u001b[0m",
      "\u001b[1;31mTypeError\u001b[0m                                 Traceback (most recent call last)",
      "Cell \u001b[1;32mIn[39], line 2\u001b[0m\n\u001b[0;32m      1\u001b[0m hora \u001b[38;5;241m=\u001b[39m datetime\u001b[38;5;241m.\u001b[39mnow()\u001b[38;5;241m.\u001b[39mtime()\n\u001b[1;32m----> 2\u001b[0m time \u001b[38;5;241m=\u001b[39m time(\u001b[38;5;241m12\u001b[39m, \u001b[38;5;241m30\u001b[39m, \u001b[38;5;241m45\u001b[39m)\n\u001b[0;32m      3\u001b[0m tempo \u001b[38;5;241m=\u001b[39m time \u001b[38;5;241m-\u001b[39m hora\n\u001b[0;32m      4\u001b[0m \u001b[38;5;28mprint\u001b[39m(tempo)\n",
      "\u001b[1;31mTypeError\u001b[0m: 'datetime.time' object is not callable"
     ]
    }
   ],
   "source": [
    "hora = datetime.now().time()\n",
    "time = time(12, 30, 45)\n",
    "tempo = time - hora\n",
    "print(tempo)"
   ]
  },
  {
   "cell_type": "code",
   "execution_count": 42,
   "id": "1369ee2e",
   "metadata": {},
   "outputs": [
    {
     "name": "stdout",
     "output_type": "stream",
     "text": [
      "2:10:13.652853\n"
     ]
    }
   ],
   "source": [
    "from datetime import datetime, time\n",
    "\n",
    "agora = datetime.now().time()\n",
    "hora = time(12, 30, 45)\n",
    "\n",
    "tempo = datetime.combine(datetime.min, hora) - datetime.combine(datetime.min, agora)\n",
    "\n",
    "print(tempo)"
   ]
  },
  {
   "cell_type": "code",
   "execution_count": null,
   "id": "27d5573f",
   "metadata": {},
   "outputs": [],
   "source": []
  }
 ],
 "metadata": {
  "kernelspec": {
   "display_name": "Python 3 (ipykernel)",
   "language": "python",
   "name": "python3"
  },
  "language_info": {
   "codemirror_mode": {
    "name": "ipython",
    "version": 3
   },
   "file_extension": ".py",
   "mimetype": "text/x-python",
   "name": "python",
   "nbconvert_exporter": "python",
   "pygments_lexer": "ipython3",
   "version": "3.11.5"
  }
 },
 "nbformat": 4,
 "nbformat_minor": 5
}
