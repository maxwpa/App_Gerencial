{
 "cells": [
  {
   "cell_type": "code",
   "execution_count": 1,
   "id": "bdd6f637",
   "metadata": {},
   "outputs": [],
   "source": [
    "from datetime import datetime, timedelta, date\n",
    "import pandas as pd\n",
    "from dateutil.relativedelta import relativedelta"
   ]
  },
  {
   "cell_type": "code",
   "execution_count": 2,
   "id": "47409a6f",
   "metadata": {},
   "outputs": [],
   "source": [
    "hoje = datetime.now().date()"
   ]
  },
  {
   "cell_type": "code",
   "execution_count": 3,
   "id": "c0ca5125",
   "metadata": {},
   "outputs": [
    {
     "ename": "AttributeError",
     "evalue": "'datetime.date' object has no attribute 'days'",
     "output_type": "error",
     "traceback": [
      "\u001b[1;31m---------------------------------------------------------------------------\u001b[0m",
      "\u001b[1;31mAttributeError\u001b[0m                            Traceback (most recent call last)",
      "Cell \u001b[1;32mIn[3], line 1\u001b[0m\n\u001b[1;32m----> 1\u001b[0m hj \u001b[38;5;241m=\u001b[39m hoje\u001b[38;5;241m.\u001b[39mdays\n\u001b[0;32m      2\u001b[0m hj\n",
      "\u001b[1;31mAttributeError\u001b[0m: 'datetime.date' object has no attribute 'days'"
     ]
    }
   ],
   "source": []
  },
  {
   "cell_type": "code",
   "execution_count": 3,
   "id": "5de7efbe",
   "metadata": {},
   "outputs": [
    {
     "data": {
      "text/plain": [
       "datetime.date"
      ]
     },
     "execution_count": 3,
     "metadata": {},
     "output_type": "execute_result"
    }
   ],
   "source": [
    "type(hoje)"
   ]
  },
  {
   "cell_type": "code",
   "execution_count": 4,
   "id": "88175ebf",
   "metadata": {},
   "outputs": [
    {
     "name": "stdout",
     "output_type": "stream",
     "text": [
      "2024-01-13\n"
     ]
    }
   ],
   "source": [
    "print(hoje)"
   ]
  },
  {
   "cell_type": "code",
   "execution_count": 5,
   "id": "5488b6b5",
   "metadata": {},
   "outputs": [
    {
     "name": "stdout",
     "output_type": "stream",
     "text": [
      "2024-01-14\n"
     ]
    }
   ],
   "source": [
    "amanha = hoje + timedelta(days=1)\n",
    "print(amanha)"
   ]
  },
  {
   "cell_type": "code",
   "execution_count": 6,
   "id": "8416ffe4",
   "metadata": {},
   "outputs": [
    {
     "ename": "NameError",
     "evalue": "name 'data' is not defined",
     "output_type": "error",
     "traceback": [
      "\u001b[1;31m---------------------------------------------------------------------------\u001b[0m",
      "\u001b[1;31mNameError\u001b[0m                                 Traceback (most recent call last)",
      "Cell \u001b[1;32mIn[6], line 2\u001b[0m\n\u001b[0;32m      1\u001b[0m dat \u001b[38;5;241m=\u001b[39m datetime(year\u001b[38;5;241m=\u001b[39m\u001b[38;5;241m2024\u001b[39m, month\u001b[38;5;241m=\u001b[39m\u001b[38;5;241m2\u001b[39m, day\u001b[38;5;241m=\u001b[39m\u001b[38;5;241m12\u001b[39m)\u001b[38;5;241m.\u001b[39mdate()\n\u001b[1;32m----> 2\u001b[0m \u001b[38;5;28mprint\u001b[39m(data)\n",
      "\u001b[1;31mNameError\u001b[0m: name 'data' is not defined"
     ]
    }
   ],
   "source": [
    "dat = datetime(year=2024, month=2, day=12).date()\n",
    "print(data)"
   ]
  },
  {
   "cell_type": "code",
   "execution_count": null,
   "id": "6b201209",
   "metadata": {},
   "outputs": [],
   "source": [
    "dat - hoje"
   ]
  },
  {
   "cell_type": "code",
   "execution_count": null,
   "id": "0faf3fdb",
   "metadata": {},
   "outputs": [],
   "source": []
  },
  {
   "cell_type": "code",
   "execution_count": 4,
   "id": "70e69876",
   "metadata": {},
   "outputs": [],
   "source": [
    "one = datetime(year=2024, month=1, day=17).date()\n",
    "two = datetime(year=2024, month=2, day=12).date()\n",
    "tree = datetime(year=2024, month=3, day=12).date()\n",
    "data = datetime(year=2024, month=4, day=12).date()\n",
    "five = datetime(year=2024, month=5, day=12).date()\n",
    "six = datetime(year=2024, month=6, day=12).date()"
   ]
  },
  {
   "cell_type": "code",
   "execution_count": null,
   "id": "64c9b70c",
   "metadata": {},
   "outputs": [],
   "source": [
    "\n",
    "parcelamento = 6\n",
    "par_pagas = relativedelta(hoje, one)\n",
    "parcelas_pagas = par_pagas.months\n",
    "parcelas_restantes = parcelamento - parcelas_pagas"
   ]
  },
  {
   "cell_type": "code",
   "execution_count": null,
   "id": "641ceb67",
   "metadata": {},
   "outputs": [],
   "source": [
    "print(parcelas_pagas)"
   ]
  },
  {
   "cell_type": "code",
   "execution_count": null,
   "id": "eab1208c",
   "metadata": {},
   "outputs": [],
   "source": [
    "print(parcelas_restantes)"
   ]
  },
  {
   "cell_type": "code",
   "execution_count": null,
   "id": "117e0b2a",
   "metadata": {},
   "outputs": [],
   "source": [
    "par = par_pagas.years\n",
    "print(par)"
   ]
  },
  {
   "cell_type": "code",
   "execution_count": null,
   "id": "93257474",
   "metadata": {},
   "outputs": [],
   "source": []
  },
  {
   "cell_type": "code",
   "execution_count": 6,
   "id": "f42e253b",
   "metadata": {},
   "outputs": [
    {
     "name": "stdout",
     "output_type": "stream",
     "text": [
      "4\n"
     ]
    }
   ],
   "source": [
    "proxima = one - hoje\n",
    "casa = proxima.days\n",
    "type(casa)"
   ]
  },
  {
   "cell_type": "code",
   "execution_count": 8,
   "id": "ba3b6597",
   "metadata": {},
   "outputs": [
    {
     "data": {
      "text/plain": [
       "0.06"
      ]
     },
     "execution_count": 8,
     "metadata": {},
     "output_type": "execute_result"
    }
   ],
   "source": [
    "(424 - 400) / 400"
   ]
  },
  {
   "cell_type": "code",
   "execution_count": 5,
   "id": "6ec49a97",
   "metadata": {},
   "outputs": [],
   "source": [
    "a = 2\n",
    "b = 4"
   ]
  },
  {
   "cell_type": "code",
   "execution_count": 12,
   "id": "00cb021c",
   "metadata": {},
   "outputs": [
    {
     "ename": "TypeError",
     "evalue": "'int' object is not callable",
     "output_type": "error",
     "traceback": [
      "\u001b[1;31m---------------------------------------------------------------------------\u001b[0m",
      "\u001b[1;31mTypeError\u001b[0m                                 Traceback (most recent call last)",
      "Cell \u001b[1;32mIn[12], line 1\u001b[0m\n\u001b[1;32m----> 1\u001b[0m f, g \u001b[38;5;241m=\u001b[39m a, b (\u001b[38;5;241m+\u001b[39m \u001b[38;5;241m5\u001b[39m)\n",
      "\u001b[1;31mTypeError\u001b[0m: 'int' object is not callable"
     ]
    }
   ],
   "source": [
    "a = 2\n",
    "b = 4\n",
    "f, g = a, b + 5"
   ]
  },
  {
   "cell_type": "code",
   "execution_count": 7,
   "id": "19cc4e7f",
   "metadata": {},
   "outputs": [
    {
     "data": {
      "text/plain": [
       "2"
      ]
     },
     "execution_count": 7,
     "metadata": {},
     "output_type": "execute_result"
    }
   ],
   "source": [
    "c"
   ]
  },
  {
   "cell_type": "code",
   "execution_count": 8,
   "id": "d60b0d29",
   "metadata": {},
   "outputs": [
    {
     "data": {
      "text/plain": [
       "9"
      ]
     },
     "execution_count": 8,
     "metadata": {},
     "output_type": "execute_result"
    }
   ],
   "source": [
    "d"
   ]
  },
  {
   "cell_type": "code",
   "execution_count": 8,
   "id": "7cdd6d24",
   "metadata": {},
   "outputs": [],
   "source": [
    "import altair as alt\n",
    "import pandas as pd\n",
    "\n",
    "# Criar dados de exemplo\n",
    "dados = pd.DataFrame({\n",
    "    'Categoria': ['A', 'B', 'C', 'D'],\n",
    "    'Valor': [30, 20, 25, 15]\n",
    "})\n",
    "\n",
    "# Calcular as porcentagens\n",
    "total = dados['Valor'].sum()\n",
    "dados['Porcentagem'] = (dados['Valor'] / total) * 100\n",
    "\n",
    "# Criar gráfico de pizza com rótulos de porcentagem\n",
    "grafico_pizza = alt.Chart(dados).mark_arc().encode(\n",
    "    theta='Porcentagem:Q',\n",
    "    color='Categoria:N',\n",
    "    tooltip=['Categoria:N', 'Porcentagem:Q']\n",
    ").transform_calculate(\n",
    "    Porcentagem='datum.Porcentagem + \"%\"'\n",
    ").interactive()\n",
    "\n",
    "# Adicionar rótulos de porcentagem\n",
    "rotulos = alt.Chart(dados).mark_text(align='center', baseline='middle').encode(\n",
    "    text='Porcentagem:N'\n",
    ")\n",
    "\n",
    "# Combinar gráfico de pizza e rótulos\n",
    "grafico_final = (grafico_pizza + rotulos).properties(width=300, height=300)\n",
    "\n",
    "# Salvar o gráfico como um arquivo HTML\n",
    "grafico_final.save('grafico_pizza_com_rotulos.html')"
   ]
  },
  {
   "cell_type": "code",
   "execution_count": 9,
   "id": "3ef5ab62",
   "metadata": {},
   "outputs": [
    {
     "name": "stdout",
     "output_type": "stream",
     "text": [
      "C:\\PerfLogs\\python.exe\n"
     ]
    }
   ],
   "source": [
    "import sys\n",
    "print(sys.executable)"
   ]
  },
  {
   "cell_type": "code",
   "execution_count": null,
   "id": "96151650",
   "metadata": {},
   "outputs": [],
   "source": []
  },
  {
   "cell_type": "code",
   "execution_count": 3,
   "id": "f7ac26ee",
   "metadata": {},
   "outputs": [],
   "source": [
    "%load_ext sql"
   ]
  },
  {
   "cell_type": "code",
   "execution_count": 2,
   "id": "919afbba",
   "metadata": {},
   "outputs": [
    {
     "name": "stdout",
     "output_type": "stream",
     "text": [
      "Collecting ipython-sqlNote: you may need to restart the kernel to use updated packages.\n",
      "\n",
      "  Using cached ipython_sql-0.5.0-py3-none-any.whl (20 kB)\n",
      "Collecting prettytable (from ipython-sql)\n",
      "  Using cached prettytable-3.9.0-py3-none-any.whl.metadata (26 kB)\n",
      "Requirement already satisfied: ipython in c:\\perflogs\\lib\\site-packages (from ipython-sql) (8.15.0)\n",
      "Collecting sqlalchemy>=2.0 (from ipython-sql)\n",
      "  Downloading SQLAlchemy-2.0.25-cp311-cp311-win_amd64.whl.metadata (9.8 kB)\n",
      "Collecting sqlparse (from ipython-sql)\n",
      "  Using cached sqlparse-0.4.4-py3-none-any.whl (41 kB)\n",
      "Requirement already satisfied: six in c:\\users\\maxwe\\appdata\\roaming\\python\\python311\\site-packages (from ipython-sql) (1.16.0)\n",
      "Requirement already satisfied: ipython-genutils in c:\\perflogs\\lib\\site-packages (from ipython-sql) (0.2.0)\n",
      "Requirement already satisfied: typing-extensions>=4.6.0 in c:\\users\\maxwe\\appdata\\roaming\\python\\python311\\site-packages (from sqlalchemy>=2.0->ipython-sql) (4.9.0)\n",
      "Requirement already satisfied: greenlet!=0.4.17 in c:\\perflogs\\lib\\site-packages (from sqlalchemy>=2.0->ipython-sql) (2.0.1)\n",
      "Requirement already satisfied: backcall in c:\\perflogs\\lib\\site-packages (from ipython->ipython-sql) (0.2.0)\n",
      "Requirement already satisfied: decorator in c:\\perflogs\\lib\\site-packages (from ipython->ipython-sql) (5.1.1)\n",
      "Requirement already satisfied: jedi>=0.16 in c:\\perflogs\\lib\\site-packages (from ipython->ipython-sql) (0.18.1)\n",
      "Requirement already satisfied: matplotlib-inline in c:\\perflogs\\lib\\site-packages (from ipython->ipython-sql) (0.1.6)\n",
      "Requirement already satisfied: pickleshare in c:\\perflogs\\lib\\site-packages (from ipython->ipython-sql) (0.7.5)\n",
      "Requirement already satisfied: prompt-toolkit!=3.0.37,<3.1.0,>=3.0.30 in c:\\perflogs\\lib\\site-packages (from ipython->ipython-sql) (3.0.36)\n",
      "Requirement already satisfied: pygments>=2.4.0 in c:\\users\\maxwe\\appdata\\roaming\\python\\python311\\site-packages (from ipython->ipython-sql) (2.17.2)\n",
      "Requirement already satisfied: stack-data in c:\\perflogs\\lib\\site-packages (from ipython->ipython-sql) (0.2.0)\n",
      "Requirement already satisfied: traitlets>=5 in c:\\perflogs\\lib\\site-packages (from ipython->ipython-sql) (5.7.1)\n",
      "Requirement already satisfied: colorama in c:\\users\\maxwe\\appdata\\roaming\\python\\python311\\site-packages (from ipython->ipython-sql) (0.4.6)\n",
      "Requirement already satisfied: wcwidth in c:\\perflogs\\lib\\site-packages (from prettytable->ipython-sql) (0.2.5)\n",
      "Requirement already satisfied: parso<0.9.0,>=0.8.0 in c:\\perflogs\\lib\\site-packages (from jedi>=0.16->ipython->ipython-sql) (0.8.3)\n",
      "Requirement already satisfied: executing in c:\\perflogs\\lib\\site-packages (from stack-data->ipython->ipython-sql) (0.8.3)\n",
      "Requirement already satisfied: asttokens in c:\\perflogs\\lib\\site-packages (from stack-data->ipython->ipython-sql) (2.0.5)\n",
      "Requirement already satisfied: pure-eval in c:\\perflogs\\lib\\site-packages (from stack-data->ipython->ipython-sql) (0.2.2)\n",
      "Downloading SQLAlchemy-2.0.25-cp311-cp311-win_amd64.whl (2.1 MB)\n",
      "   ---------------------------------------- 0.0/2.1 MB ? eta -:--:--\n",
      "   ---------------------------------------- 0.0/2.1 MB ? eta -:--:--\n",
      "    --------------------------------------- 0.0/2.1 MB 660.6 kB/s eta 0:00:04\n",
      "   -- ------------------------------------- 0.1/2.1 MB 1.4 MB/s eta 0:00:02\n",
      "   ------------ --------------------------- 0.6/2.1 MB 5.1 MB/s eta 0:00:01\n",
      "   ---------------- ----------------------- 0.8/2.1 MB 4.4 MB/s eta 0:00:01\n",
      "   ------------------------------- -------- 1.6/2.1 MB 6.9 MB/s eta 0:00:01\n",
      "   ------------------------------------ --- 1.9/2.1 MB 7.1 MB/s eta 0:00:01\n",
      "   ---------------------------------------  2.1/2.1 MB 7.3 MB/s eta 0:00:01\n",
      "   ---------------------------------------- 2.1/2.1 MB 5.7 MB/s eta 0:00:00\n",
      "Using cached prettytable-3.9.0-py3-none-any.whl (27 kB)\n",
      "Installing collected packages: sqlparse, sqlalchemy, prettytable, ipython-sql\n",
      "  Attempting uninstall: sqlalchemy\n",
      "    Found existing installation: SQLAlchemy 1.4.39\n",
      "    Uninstalling SQLAlchemy-1.4.39:\n",
      "      Successfully uninstalled SQLAlchemy-1.4.39\n",
      "Successfully installed ipython-sql-0.5.0 prettytable-3.9.0 sqlalchemy-2.0.25 sqlparse-0.4.4\n"
     ]
    }
   ],
   "source": [
    "pip install ipython-sql"
   ]
  },
  {
   "cell_type": "code",
   "execution_count": null,
   "id": "18738dac",
   "metadata": {},
   "outputs": [],
   "source": []
  }
 ],
 "metadata": {
  "kernelspec": {
   "display_name": "Python 3 (ipykernel)",
   "language": "python",
   "name": "python3"
  },
  "language_info": {
   "codemirror_mode": {
    "name": "ipython",
    "version": 3
   },
   "file_extension": ".py",
   "mimetype": "text/x-python",
   "name": "python",
   "nbconvert_exporter": "python",
   "pygments_lexer": "ipython3",
   "version": "3.11.5"
  }
 },
 "nbformat": 4,
 "nbformat_minor": 5
}
