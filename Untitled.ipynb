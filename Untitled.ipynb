{
 "cells": [
  {
   "cell_type": "code",
   "execution_count": 1,
   "id": "bdd6f637",
   "metadata": {},
   "outputs": [],
   "source": [
    "from datetime import datetime, timedelta, date\n",
    "import pandas as pd\n",
    "from dateutil.relativedelta import relativedelta"
   ]
  },
  {
   "cell_type": "code",
   "execution_count": 2,
   "id": "47409a6f",
   "metadata": {},
   "outputs": [],
   "source": [
    "hoje = datetime.now().date()"
   ]
  },
  {
   "cell_type": "code",
   "execution_count": 3,
   "id": "c0ca5125",
   "metadata": {},
   "outputs": [
    {
     "ename": "AttributeError",
     "evalue": "'datetime.date' object has no attribute 'days'",
     "output_type": "error",
     "traceback": [
      "\u001b[1;31m---------------------------------------------------------------------------\u001b[0m",
      "\u001b[1;31mAttributeError\u001b[0m                            Traceback (most recent call last)",
      "Cell \u001b[1;32mIn[3], line 1\u001b[0m\n\u001b[1;32m----> 1\u001b[0m hj \u001b[38;5;241m=\u001b[39m hoje\u001b[38;5;241m.\u001b[39mdays\n\u001b[0;32m      2\u001b[0m hj\n",
      "\u001b[1;31mAttributeError\u001b[0m: 'datetime.date' object has no attribute 'days'"
     ]
    }
   ],
   "source": []
  },
  {
   "cell_type": "code",
   "execution_count": 3,
   "id": "5de7efbe",
   "metadata": {},
   "outputs": [
    {
     "data": {
      "text/plain": [
       "datetime.date"
      ]
     },
     "execution_count": 3,
     "metadata": {},
     "output_type": "execute_result"
    }
   ],
   "source": [
    "type(hoje)"
   ]
  },
  {
   "cell_type": "code",
   "execution_count": 4,
   "id": "88175ebf",
   "metadata": {},
   "outputs": [
    {
     "name": "stdout",
     "output_type": "stream",
     "text": [
      "2024-01-13\n"
     ]
    }
   ],
   "source": [
    "print(hoje)"
   ]
  },
  {
   "cell_type": "code",
   "execution_count": 5,
   "id": "5488b6b5",
   "metadata": {},
   "outputs": [
    {
     "name": "stdout",
     "output_type": "stream",
     "text": [
      "2024-01-14\n"
     ]
    }
   ],
   "source": [
    "amanha = hoje + timedelta(days=1)\n",
    "print(amanha)"
   ]
  },
  {
   "cell_type": "code",
   "execution_count": 6,
   "id": "8416ffe4",
   "metadata": {},
   "outputs": [
    {
     "ename": "NameError",
     "evalue": "name 'data' is not defined",
     "output_type": "error",
     "traceback": [
      "\u001b[1;31m---------------------------------------------------------------------------\u001b[0m",
      "\u001b[1;31mNameError\u001b[0m                                 Traceback (most recent call last)",
      "Cell \u001b[1;32mIn[6], line 2\u001b[0m\n\u001b[0;32m      1\u001b[0m dat \u001b[38;5;241m=\u001b[39m datetime(year\u001b[38;5;241m=\u001b[39m\u001b[38;5;241m2024\u001b[39m, month\u001b[38;5;241m=\u001b[39m\u001b[38;5;241m2\u001b[39m, day\u001b[38;5;241m=\u001b[39m\u001b[38;5;241m12\u001b[39m)\u001b[38;5;241m.\u001b[39mdate()\n\u001b[1;32m----> 2\u001b[0m \u001b[38;5;28mprint\u001b[39m(data)\n",
      "\u001b[1;31mNameError\u001b[0m: name 'data' is not defined"
     ]
    }
   ],
   "source": [
    "dat = datetime(year=2024, month=2, day=12).date()\n",
    "print(data)"
   ]
  },
  {
   "cell_type": "code",
   "execution_count": null,
   "id": "6b201209",
   "metadata": {},
   "outputs": [],
   "source": [
    "dat - hoje"
   ]
  },
  {
   "cell_type": "code",
   "execution_count": null,
   "id": "0faf3fdb",
   "metadata": {},
   "outputs": [],
   "source": []
  },
  {
   "cell_type": "code",
   "execution_count": 4,
   "id": "70e69876",
   "metadata": {},
   "outputs": [],
   "source": [
    "one = datetime(year=2024, month=1, day=17).date()\n",
    "two = datetime(year=2024, month=2, day=12).date()\n",
    "tree = datetime(year=2024, month=3, day=12).date()\n",
    "data = datetime(year=2024, month=4, day=12).date()\n",
    "five = datetime(year=2024, month=5, day=12).date()\n",
    "six = datetime(year=2024, month=6, day=12).date()"
   ]
  },
  {
   "cell_type": "code",
   "execution_count": null,
   "id": "64c9b70c",
   "metadata": {},
   "outputs": [],
   "source": [
    "\n",
    "parcelamento = 6\n",
    "par_pagas = relativedelta(hoje, one)\n",
    "parcelas_pagas = par_pagas.months\n",
    "parcelas_restantes = parcelamento - parcelas_pagas"
   ]
  },
  {
   "cell_type": "code",
   "execution_count": null,
   "id": "641ceb67",
   "metadata": {},
   "outputs": [],
   "source": [
    "print(parcelas_pagas)"
   ]
  },
  {
   "cell_type": "code",
   "execution_count": null,
   "id": "eab1208c",
   "metadata": {},
   "outputs": [],
   "source": [
    "print(parcelas_restantes)"
   ]
  },
  {
   "cell_type": "code",
   "execution_count": null,
   "id": "117e0b2a",
   "metadata": {},
   "outputs": [],
   "source": [
    "par = par_pagas.years\n",
    "print(par)"
   ]
  },
  {
   "cell_type": "code",
   "execution_count": null,
   "id": "93257474",
   "metadata": {},
   "outputs": [],
   "source": []
  },
  {
   "cell_type": "code",
   "execution_count": 6,
   "id": "f42e253b",
   "metadata": {},
   "outputs": [
    {
     "name": "stdout",
     "output_type": "stream",
     "text": [
      "4\n"
     ]
    }
   ],
   "source": [
    "proxima = one - hoje\n",
    "casa = proxima.days\n",
    "type(casa)"
   ]
  },
  {
   "cell_type": "code",
   "execution_count": 8,
   "id": "ba3b6597",
   "metadata": {},
   "outputs": [
    {
     "data": {
      "text/plain": [
       "0.06"
      ]
     },
     "execution_count": 8,
     "metadata": {},
     "output_type": "execute_result"
    }
   ],
   "source": [
    "(424 - 400) / 400"
   ]
  },
  {
   "cell_type": "code",
   "execution_count": 5,
   "id": "6ec49a97",
   "metadata": {},
   "outputs": [],
   "source": [
    "a = 2\n",
    "b = 4"
   ]
  },
  {
   "cell_type": "code",
   "execution_count": 12,
   "id": "00cb021c",
   "metadata": {},
   "outputs": [
    {
     "ename": "TypeError",
     "evalue": "'int' object is not callable",
     "output_type": "error",
     "traceback": [
      "\u001b[1;31m---------------------------------------------------------------------------\u001b[0m",
      "\u001b[1;31mTypeError\u001b[0m                                 Traceback (most recent call last)",
      "Cell \u001b[1;32mIn[12], line 1\u001b[0m\n\u001b[1;32m----> 1\u001b[0m f, g \u001b[38;5;241m=\u001b[39m a, b (\u001b[38;5;241m+\u001b[39m \u001b[38;5;241m5\u001b[39m)\n",
      "\u001b[1;31mTypeError\u001b[0m: 'int' object is not callable"
     ]
    }
   ],
   "source": [
    "a = 2\n",
    "b = 4\n",
    "f, g = a, b + 5"
   ]
  },
  {
   "cell_type": "code",
   "execution_count": 7,
   "id": "19cc4e7f",
   "metadata": {},
   "outputs": [
    {
     "data": {
      "text/plain": [
       "2"
      ]
     },
     "execution_count": 7,
     "metadata": {},
     "output_type": "execute_result"
    }
   ],
   "source": [
    "c"
   ]
  },
  {
   "cell_type": "code",
   "execution_count": 8,
   "id": "d60b0d29",
   "metadata": {},
   "outputs": [
    {
     "data": {
      "text/plain": [
       "9"
      ]
     },
     "execution_count": 8,
     "metadata": {},
     "output_type": "execute_result"
    }
   ],
   "source": [
    "d"
   ]
  },
  {
   "cell_type": "code",
   "execution_count": 2,
   "id": "ef50fe5d",
   "metadata": {},
   "outputs": [
    {
     "ename": "ValueError",
     "evalue": "'show' method requires the altair_viewer package. See http://github.com/altair-viz/altair_viewer",
     "output_type": "error",
     "traceback": [
      "\u001b[1;31m---------------------------------------------------------------------------\u001b[0m",
      "\u001b[1;31mModuleNotFoundError\u001b[0m                       Traceback (most recent call last)",
      "File \u001b[1;32m~\\AppData\\Roaming\\Python\\Python311\\site-packages\\altair\\vegalite\\v5\\api.py:2685\u001b[0m, in \u001b[0;36mTopLevelMixin.show\u001b[1;34m(self, embed_opt, open_browser)\u001b[0m\n\u001b[0;32m   2684\u001b[0m \u001b[38;5;28;01mtry\u001b[39;00m:\n\u001b[1;32m-> 2685\u001b[0m     \u001b[38;5;28;01mimport\u001b[39;00m \u001b[38;5;21;01maltair_viewer\u001b[39;00m\n\u001b[0;32m   2686\u001b[0m \u001b[38;5;28;01mexcept\u001b[39;00m \u001b[38;5;167;01mImportError\u001b[39;00m \u001b[38;5;28;01mas\u001b[39;00m err:\n",
      "\u001b[1;31mModuleNotFoundError\u001b[0m: No module named 'altair_viewer'",
      "\nThe above exception was the direct cause of the following exception:\n",
      "\u001b[1;31mValueError\u001b[0m                                Traceback (most recent call last)",
      "Cell \u001b[1;32mIn[2], line 20\u001b[0m\n\u001b[0;32m     11\u001b[0m grafico_setores \u001b[38;5;241m=\u001b[39m alt\u001b[38;5;241m.\u001b[39mChart(dados)\u001b[38;5;241m.\u001b[39mmark_circle(size\u001b[38;5;241m=\u001b[39m\u001b[38;5;241m200\u001b[39m)\u001b[38;5;241m.\u001b[39mencode(\n\u001b[0;32m     12\u001b[0m     x\u001b[38;5;241m=\u001b[39malt\u001b[38;5;241m.\u001b[39mvalue(\u001b[38;5;241m0\u001b[39m),\n\u001b[0;32m     13\u001b[0m     y\u001b[38;5;241m=\u001b[39malt\u001b[38;5;241m.\u001b[39mvalue(\u001b[38;5;241m0\u001b[39m),\n\u001b[1;32m   (...)\u001b[0m\n\u001b[0;32m     16\u001b[0m     tooltip\u001b[38;5;241m=\u001b[39m[\u001b[38;5;124m'\u001b[39m\u001b[38;5;124mCategoria:N\u001b[39m\u001b[38;5;124m'\u001b[39m, \u001b[38;5;124m'\u001b[39m\u001b[38;5;124mValor:Q\u001b[39m\u001b[38;5;124m'\u001b[39m]\n\u001b[0;32m     17\u001b[0m )\u001b[38;5;241m.\u001b[39minteractive()\n\u001b[0;32m     19\u001b[0m \u001b[38;5;66;03m# Mostrar o gráfico\u001b[39;00m\n\u001b[1;32m---> 20\u001b[0m grafico_setores\u001b[38;5;241m.\u001b[39mshow()\n",
      "File \u001b[1;32m~\\AppData\\Roaming\\Python\\Python311\\site-packages\\altair\\vegalite\\v5\\api.py:2687\u001b[0m, in \u001b[0;36mTopLevelMixin.show\u001b[1;34m(self, embed_opt, open_browser)\u001b[0m\n\u001b[0;32m   2685\u001b[0m     \u001b[38;5;28;01mimport\u001b[39;00m \u001b[38;5;21;01maltair_viewer\u001b[39;00m\n\u001b[0;32m   2686\u001b[0m \u001b[38;5;28;01mexcept\u001b[39;00m \u001b[38;5;167;01mImportError\u001b[39;00m \u001b[38;5;28;01mas\u001b[39;00m err:\n\u001b[1;32m-> 2687\u001b[0m     \u001b[38;5;28;01mraise\u001b[39;00m \u001b[38;5;167;01mValueError\u001b[39;00m(\n\u001b[0;32m   2688\u001b[0m         \u001b[38;5;124m\"\u001b[39m\u001b[38;5;124m'\u001b[39m\u001b[38;5;124mshow\u001b[39m\u001b[38;5;124m'\u001b[39m\u001b[38;5;124m method requires the altair_viewer package. \u001b[39m\u001b[38;5;124m\"\u001b[39m\n\u001b[0;32m   2689\u001b[0m         \u001b[38;5;124m\"\u001b[39m\u001b[38;5;124mSee http://github.com/altair-viz/altair_viewer\u001b[39m\u001b[38;5;124m\"\u001b[39m\n\u001b[0;32m   2690\u001b[0m     ) \u001b[38;5;28;01mfrom\u001b[39;00m \u001b[38;5;21;01merr\u001b[39;00m\n\u001b[0;32m   2691\u001b[0m altair_viewer\u001b[38;5;241m.\u001b[39mshow(\u001b[38;5;28mself\u001b[39m, embed_opt\u001b[38;5;241m=\u001b[39membed_opt, open_browser\u001b[38;5;241m=\u001b[39mopen_browser)\n",
      "\u001b[1;31mValueError\u001b[0m: 'show' method requires the altair_viewer package. See http://github.com/altair-viz/altair_viewer"
     ]
    }
   ],
   "source": [
    "import altair as alt\n",
    "import pandas as pd\n",
    "\n",
    "# Criar dados de exemplo\n",
    "dados = pd.DataFrame({\n",
    "    'Categoria': ['A', 'B', 'C', 'D'],\n",
    "    'Valor': [30, 20, 25, 15]\n",
    "})\n",
    "\n",
    "# Criar gráfico de setores\n",
    "grafico_setores = alt.Chart(dados).mark_circle(size=200).encode(\n",
    "    x=alt.value(0),\n",
    "    y=alt.value(0),\n",
    "    size='Valor:Q',\n",
    "    color='Categoria:N',\n",
    "    tooltip=['Categoria:N', 'Valor:Q']\n",
    ").interactive()\n",
    "\n",
    "# Mostrar o gráfico\n",
    "grafico_setores.show()"
   ]
  },
  {
   "cell_type": "code",
   "execution_count": null,
   "id": "d3fef1fe",
   "metadata": {},
   "outputs": [],
   "source": []
  }
 ],
 "metadata": {
  "kernelspec": {
   "display_name": "Python 3 (ipykernel)",
   "language": "python",
   "name": "python3"
  },
  "language_info": {
   "codemirror_mode": {
    "name": "ipython",
    "version": 3
   },
   "file_extension": ".py",
   "mimetype": "text/x-python",
   "name": "python",
   "nbconvert_exporter": "python",
   "pygments_lexer": "ipython3",
   "version": "3.11.5"
  }
 },
 "nbformat": 4,
 "nbformat_minor": 5
}
