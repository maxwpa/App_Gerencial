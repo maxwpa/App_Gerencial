{
 "cells": [
  {
   "cell_type": "code",
   "execution_count": 1,
   "id": "bdd6f637",
   "metadata": {},
   "outputs": [],
   "source": [
    "from datetime import datetime, timedelta, date\n",
    "import pandas as pd\n",
    "from dateutil.relativedelta import relativedelta"
   ]
  },
  {
   "cell_type": "code",
   "execution_count": 2,
   "id": "47409a6f",
   "metadata": {},
   "outputs": [],
   "source": [
    "hoje = datetime.now().date()"
   ]
  },
  {
   "cell_type": "code",
   "execution_count": 3,
   "id": "5de7efbe",
   "metadata": {},
   "outputs": [
    {
     "data": {
      "text/plain": [
       "datetime.date"
      ]
     },
     "execution_count": 3,
     "metadata": {},
     "output_type": "execute_result"
    }
   ],
   "source": [
    "type(hoje)"
   ]
  },
  {
   "cell_type": "code",
   "execution_count": 4,
   "id": "88175ebf",
   "metadata": {},
   "outputs": [
    {
     "name": "stdout",
     "output_type": "stream",
     "text": [
      "2024-01-12\n"
     ]
    }
   ],
   "source": [
    "print(hoje)"
   ]
  },
  {
   "cell_type": "code",
   "execution_count": 5,
   "id": "5488b6b5",
   "metadata": {},
   "outputs": [
    {
     "name": "stdout",
     "output_type": "stream",
     "text": [
      "2024-01-13\n"
     ]
    }
   ],
   "source": [
    "amanha = hoje + timedelta(days=1)\n",
    "print(amanha)"
   ]
  },
  {
   "cell_type": "code",
   "execution_count": 6,
   "id": "8416ffe4",
   "metadata": {},
   "outputs": [
    {
     "ename": "NameError",
     "evalue": "name 'data' is not defined",
     "output_type": "error",
     "traceback": [
      "\u001b[1;31m---------------------------------------------------------------------------\u001b[0m",
      "\u001b[1;31mNameError\u001b[0m                                 Traceback (most recent call last)",
      "Cell \u001b[1;32mIn[6], line 2\u001b[0m\n\u001b[0;32m      1\u001b[0m dat \u001b[38;5;241m=\u001b[39m datetime(year\u001b[38;5;241m=\u001b[39m\u001b[38;5;241m2024\u001b[39m, month\u001b[38;5;241m=\u001b[39m\u001b[38;5;241m2\u001b[39m, day\u001b[38;5;241m=\u001b[39m\u001b[38;5;241m12\u001b[39m)\u001b[38;5;241m.\u001b[39mdate()\n\u001b[1;32m----> 2\u001b[0m \u001b[38;5;28mprint\u001b[39m(data)\n",
      "\u001b[1;31mNameError\u001b[0m: name 'data' is not defined"
     ]
    }
   ],
   "source": [
    "dat = datetime(year=2024, month=2, day=12).date()\n",
    "print(data)"
   ]
  },
  {
   "cell_type": "code",
   "execution_count": null,
   "id": "6b201209",
   "metadata": {},
   "outputs": [],
   "source": [
    "dat - hoje"
   ]
  },
  {
   "cell_type": "code",
   "execution_count": 49,
   "id": "0faf3fdb",
   "metadata": {},
   "outputs": [],
   "source": []
  },
  {
   "cell_type": "code",
   "execution_count": 7,
   "id": "70e69876",
   "metadata": {},
   "outputs": [],
   "source": [
    "one = datetime(year=2024, month=1, day=17).date()\n",
    "two = datetime(year=2024, month=2, day=12).date()\n",
    "tree = datetime(year=2024, month=3, day=12).date()\n",
    "data = datetime(year=2024, month=4, day=12).date()\n",
    "five = datetime(year=2024, month=5, day=12).date()\n",
    "six = datetime(year=2024, month=6, day=12).date()"
   ]
  },
  {
   "cell_type": "code",
   "execution_count": 8,
   "id": "64c9b70c",
   "metadata": {},
   "outputs": [],
   "source": [
    "\n",
    "parcelamento = 6\n",
    "par_pagas = relativedelta(hoje, one)\n",
    "parcelas_pagas = par_pagas.months\n",
    "parcelas_restantes = parcelamento - parcelas_pagas"
   ]
  },
  {
   "cell_type": "code",
   "execution_count": 10,
   "id": "641ceb67",
   "metadata": {},
   "outputs": [
    {
     "name": "stdout",
     "output_type": "stream",
     "text": [
      "0\n"
     ]
    }
   ],
   "source": [
    "print(parcelas_pagas)"
   ]
  },
  {
   "cell_type": "code",
   "execution_count": 101,
   "id": "eab1208c",
   "metadata": {},
   "outputs": [
    {
     "name": "stdout",
     "output_type": "stream",
     "text": [
      "8\n"
     ]
    }
   ],
   "source": [
    "print(parcelas_restantes)"
   ]
  },
  {
   "cell_type": "code",
   "execution_count": 9,
   "id": "117e0b2a",
   "metadata": {},
   "outputs": [
    {
     "name": "stdout",
     "output_type": "stream",
     "text": [
      "0\n"
     ]
    }
   ],
   "source": [
    "par = par_pagas.years\n",
    "print(par)"
   ]
  },
  {
   "cell_type": "code",
   "execution_count": null,
   "id": "93257474",
   "metadata": {},
   "outputs": [],
   "source": []
  }
 ],
 "metadata": {
  "kernelspec": {
   "display_name": "Python 3 (ipykernel)",
   "language": "python",
   "name": "python3"
  },
  "language_info": {
   "codemirror_mode": {
    "name": "ipython",
    "version": 3
   },
   "file_extension": ".py",
   "mimetype": "text/x-python",
   "name": "python",
   "nbconvert_exporter": "python",
   "pygments_lexer": "ipython3",
   "version": "3.11.5"
  }
 },
 "nbformat": 4,
 "nbformat_minor": 5
}
