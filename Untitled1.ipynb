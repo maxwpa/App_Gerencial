{
 "cells": [
  {
   "cell_type": "code",
   "execution_count": 2,
   "id": "a7b1ffa8",
   "metadata": {},
   "outputs": [],
   "source": [
    "import sqlite3"
   ]
  },
  {
   "cell_type": "code",
   "execution_count": 19,
   "id": "1bd6b303",
   "metadata": {},
   "outputs": [],
   "source": [
    "conn = sqlite3.connect('data_test.db')\n",
    "cursor = conn.cursor()"
   ]
  },
  {
   "cell_type": "code",
   "execution_count": 20,
   "id": "c19ef087",
   "metadata": {},
   "outputs": [],
   "source": [
    "cursor.execute(''' create table if not exists compras (\n",
    "produto tinytext not null, marca tinytext not null, quantidade tinyint not null, preco float(7,2))''')\n",
    "\n",
    "conn.commit()"
   ]
  },
  {
   "cell_type": "code",
   "execution_count": 21,
   "id": "66543b71",
   "metadata": {},
   "outputs": [],
   "source": [
    "produto = 'smartphone'\n",
    "marca = 'iphone'\n",
    "quantidade = 5\n",
    "preco = 14500.00"
   ]
  },
  {
   "cell_type": "code",
   "execution_count": 23,
   "id": "50888def",
   "metadata": {},
   "outputs": [
    {
     "name": "stdout",
     "output_type": "stream",
     "text": [
      "('smartphone', 'iphone', 5, 14500.0)\n"
     ]
    }
   ],
   "source": [
    "data = produto, marca, quantidade, preco\n",
    "print(data)"
   ]
  },
  {
   "cell_type": "code",
   "execution_count": 28,
   "id": "ec4acbb6",
   "metadata": {},
   "outputs": [],
   "source": [
    "cursor.execute('''insert into compras values (?, ?, ?, ?)''', (data))\n",
    "\n",
    "conn.commit()"
   ]
  },
  {
   "cell_type": "code",
   "execution_count": 29,
   "id": "f4433a07",
   "metadata": {},
   "outputs": [],
   "source": [
    "conn.close()"
   ]
  },
  {
   "cell_type": "code",
   "execution_count": null,
   "id": "7f03b5bf",
   "metadata": {},
   "outputs": [],
   "source": []
  }
 ],
 "metadata": {
  "kernelspec": {
   "display_name": "Python 3 (ipykernel)",
   "language": "python",
   "name": "python3"
  },
  "language_info": {
   "codemirror_mode": {
    "name": "ipython",
    "version": 3
   },
   "file_extension": ".py",
   "mimetype": "text/x-python",
   "name": "python",
   "nbconvert_exporter": "python",
   "pygments_lexer": "ipython3",
   "version": "3.11.5"
  }
 },
 "nbformat": 4,
 "nbformat_minor": 5
}
